{
 "cells": [
  {
   "cell_type": "markdown",
   "metadata": {},
   "source": [
    "# 单因子函数"
   ]
  },
  {
   "cell_type": "code",
   "execution_count": 3,
   "metadata": {},
   "outputs": [
    {
     "data": {
      "text/plain": [
       "array([0, 1, 2, 3, 4, 5, 6, 7, 8, 9])"
      ]
     },
     "execution_count": 3,
     "metadata": {},
     "output_type": "execute_result"
    }
   ],
   "source": [
    "import numpy as np\n",
    "arr = np.arange(10)  #创建一个连续序列数组\n",
    "arr"
   ]
  },
  {
   "cell_type": "code",
   "execution_count": 5,
   "metadata": {},
   "outputs": [
    {
     "data": {
      "text/plain": [
       "array([ 0.        ,  1.        ,  1.41421356,  1.73205081,  2.        ,\n",
       "        2.23606798,  2.44948974,  2.64575131,  2.82842712,  3.        ])"
      ]
     },
     "execution_count": 5,
     "metadata": {},
     "output_type": "execute_result"
    }
   ],
   "source": [
    "np.sqrt(arr)  #计算每个元素的平方根"
   ]
  },
  {
   "cell_type": "code",
   "execution_count": 6,
   "metadata": {},
   "outputs": [
    {
     "data": {
      "text/plain": [
       "array([  1.00000000e+00,   2.71828183e+00,   7.38905610e+00,\n",
       "         2.00855369e+01,   5.45981500e+01,   1.48413159e+02,\n",
       "         4.03428793e+02,   1.09663316e+03,   2.98095799e+03,\n",
       "         8.10308393e+03])"
      ]
     },
     "execution_count": 6,
     "metadata": {},
     "output_type": "execute_result"
    }
   ],
   "source": [
    "np.exp(arr)  #计算指数"
   ]
  },
  {
   "cell_type": "markdown",
   "metadata": {},
   "source": [
    "# 双因子函数 "
   ]
  },
  {
   "cell_type": "code",
   "execution_count": 7,
   "metadata": {
    "collapsed": true
   },
   "outputs": [],
   "source": [
    "x = np.random.randn(8)\n",
    "y = np.random.randn(8)"
   ]
  },
  {
   "cell_type": "code",
   "execution_count": 8,
   "metadata": {},
   "outputs": [
    {
     "data": {
      "text/plain": [
       "array([ 0.01390002,  0.44440568, -0.69043928,  0.77192223,  0.54505387,\n",
       "        1.16004907, -0.00615129,  1.75249289])"
      ]
     },
     "execution_count": 8,
     "metadata": {},
     "output_type": "execute_result"
    }
   ],
   "source": [
    "x"
   ]
  },
  {
   "cell_type": "code",
   "execution_count": 9,
   "metadata": {},
   "outputs": [
    {
     "data": {
      "text/plain": [
       "array([-1.37632082,  2.28097943, -0.08908447, -1.79805353,  1.13887393,\n",
       "       -0.24691048, -0.38084412, -0.06628497])"
      ]
     },
     "execution_count": 9,
     "metadata": {},
     "output_type": "execute_result"
    }
   ],
   "source": [
    "y"
   ]
  },
  {
   "cell_type": "code",
   "execution_count": 10,
   "metadata": {},
   "outputs": [
    {
     "data": {
      "text/plain": [
       "array([ 0.01390002,  2.28097943, -0.08908447,  0.77192223,  1.13887393,\n",
       "        1.16004907, -0.00615129,  1.75249289])"
      ]
     },
     "execution_count": 10,
     "metadata": {},
     "output_type": "execute_result"
    }
   ],
   "source": [
    "np.maximum(x, y) #求最大值"
   ]
  },
  {
   "cell_type": "markdown",
   "metadata": {},
   "source": [
    "# 返回值是多个值的函数 "
   ]
  },
  {
   "cell_type": "code",
   "execution_count": 11,
   "metadata": {},
   "outputs": [
    {
     "data": {
      "text/plain": [
       "array([ 2.03591268, -3.38109174,  1.00418422, -2.20275474,  2.3263392 ,\n",
       "        1.72357055, -3.28077738])"
      ]
     },
     "execution_count": 11,
     "metadata": {},
     "output_type": "execute_result"
    }
   ],
   "source": [
    "arr = np.random.randn(7) * 5\n",
    "arr"
   ]
  },
  {
   "cell_type": "code",
   "execution_count": 14,
   "metadata": {},
   "outputs": [
    {
     "data": {
      "text/plain": [
       "array([ 0.03591268, -0.38109174,  0.00418422, -0.20275474,  0.3263392 ,\n",
       "        0.72357055, -0.28077738])"
      ]
     },
     "execution_count": 14,
     "metadata": {},
     "output_type": "execute_result"
    }
   ],
   "source": [
    "remainder, whole_part = np.modf(arr) #求取分数部分和整数部分\n",
    "remainder #分数部分"
   ]
  },
  {
   "cell_type": "code",
   "execution_count": 15,
   "metadata": {},
   "outputs": [
    {
     "data": {
      "text/plain": [
       "array([ 2., -3.,  1., -2.,  2.,  1., -3.])"
      ]
     },
     "execution_count": 15,
     "metadata": {},
     "output_type": "execute_result"
    }
   ],
   "source": [
    "whole_part #整数部分"
   ]
  },
  {
   "cell_type": "markdown",
   "metadata": {},
   "source": [
    "# 接受一个可选的out参数，可以就地修改原数组的值"
   ]
  },
  {
   "cell_type": "code",
   "execution_count": 16,
   "metadata": {},
   "outputs": [
    {
     "data": {
      "text/plain": [
       "array([ 2.03591268, -3.38109174,  1.00418422, -2.20275474,  2.3263392 ,\n",
       "        1.72357055, -3.28077738])"
      ]
     },
     "execution_count": 16,
     "metadata": {},
     "output_type": "execute_result"
    }
   ],
   "source": [
    "arr"
   ]
  },
  {
   "cell_type": "code",
   "execution_count": 17,
   "metadata": {},
   "outputs": [
    {
     "name": "stderr",
     "output_type": "stream",
     "text": [
      "d:\\Anaconda3\\lib\\site-packages\\ipykernel_launcher.py:1: RuntimeWarning: invalid value encountered in sqrt\n",
      "  \"\"\"Entry point for launching an IPython kernel.\n"
     ]
    },
    {
     "data": {
      "text/plain": [
       "array([ 1.42685412,         nan,  1.00208993,         nan,  1.52523415,\n",
       "        1.31284826,         nan])"
      ]
     },
     "execution_count": 17,
     "metadata": {},
     "output_type": "execute_result"
    }
   ],
   "source": [
    "np.sqrt(arr) #求arr的平方根，arr不会被修改，由于其中包含负值，因此出现警告。"
   ]
  },
  {
   "cell_type": "code",
   "execution_count": 18,
   "metadata": {},
   "outputs": [
    {
     "data": {
      "text/plain": [
       "array([ 2.03591268, -3.38109174,  1.00418422, -2.20275474,  2.3263392 ,\n",
       "        1.72357055, -3.28077738])"
      ]
     },
     "execution_count": 18,
     "metadata": {},
     "output_type": "execute_result"
    }
   ],
   "source": [
    "arr #arr仍是原值"
   ]
  },
  {
   "cell_type": "code",
   "execution_count": 19,
   "metadata": {},
   "outputs": [
    {
     "name": "stderr",
     "output_type": "stream",
     "text": [
      "d:\\Anaconda3\\lib\\site-packages\\ipykernel_launcher.py:1: RuntimeWarning: invalid value encountered in sqrt\n",
      "  \"\"\"Entry point for launching an IPython kernel.\n"
     ]
    },
    {
     "data": {
      "text/plain": [
       "array([ 1.42685412,         nan,  1.00208993,         nan,  1.52523415,\n",
       "        1.31284826,         nan])"
      ]
     },
     "execution_count": 19,
     "metadata": {},
     "output_type": "execute_result"
    }
   ],
   "source": [
    "np.sqrt(arr, arr) #将arr作为out参数，则arr被就地修改"
   ]
  },
  {
   "cell_type": "code",
   "execution_count": 20,
   "metadata": {},
   "outputs": [
    {
     "data": {
      "text/plain": [
       "array([ 1.42685412,         nan,  1.00208993,         nan,  1.52523415,\n",
       "        1.31284826,         nan])"
      ]
     },
     "execution_count": 20,
     "metadata": {},
     "output_type": "execute_result"
    }
   ],
   "source": [
    "arr"
   ]
  },
  {
   "cell_type": "markdown",
   "metadata": {},
   "source": [
    "# 单因子函数\n",
    "|函数|描述|\n",
    "|----|----|\n",
    "|abs, fabs| 计算整数、浮点数和复数的绝对值|\n",
    "|sqrt| 计算平方根|\n",
    "|square|计算平方|\n",
    "|exp |计算以e为底的指数|\n",
    "|log, log10,log2, log1p|计算自然底数、10为底数、2为底数和log(1+x)|\n",
    "|sign | 计算每个元素的符号: 1 (正), 0 (零), or –1 (负)|\n",
    "|ceil| 计算大于等于元素的最小整数|\n",
    "|floor| 计算小于等于元素的最大整数\n",
    "|rint | 取整|\n",
    "|modf | 求整数部分和小数部分|\n",
    "|isnan| 返回一个数组，其元素是标志参数元素是否是NaN的布尔值|\n",
    "|isfinite,isinf | 返回一个数组，其元素是标志参数元素是否是无穷大或有限数值的布尔值|\n",
    "|cos, cosh, sin,sinh, tan, tanh|三角函数|\n",
    "|arccos, arccosh,arcsin, arcsinh,arctan, arctanh|反三角函数|\n",
    "|logical_not | 逻辑非（ ~arr ）|"
   ]
  },
  {
   "cell_type": "markdown",
   "metadata": {},
   "source": [
    "# 双因子函数\n",
    "|函数|描述|\n",
    "|----|----|\n",
    "|add，subtract，multiply，divide, floor_divide | 加法，减法、乘法、除法、不带余数除法|\n",
    "|power| 指数|\n",
    "|maximum, fmax ，minimum, fmin| 最大、最小，fmax、fmin忽略 NaN值|\n",
    "|mod |余数|\n",
    "|copysign| 拷贝第二个参数的符号给第一个参数|\n",
    "|greater, greater_equal,less, less_equal,equal, not_equal| >, >=, <, <=, ==, != |\n",
    "|logical_and,logical_or, logical_xor| 逻辑并、或、异或（&、&#124;、^）|\n"
   ]
  }
 ],
 "metadata": {
  "kernelspec": {
   "display_name": "Python 3",
   "language": "python",
   "name": "python3"
  },
  "language_info": {
   "codemirror_mode": {
    "name": "ipython",
    "version": 3
   },
   "file_extension": ".py",
   "mimetype": "text/x-python",
   "name": "python",
   "nbconvert_exporter": "python",
   "pygments_lexer": "ipython3",
   "version": "3.6.3"
  }
 },
 "nbformat": 4,
 "nbformat_minor": 2
}
