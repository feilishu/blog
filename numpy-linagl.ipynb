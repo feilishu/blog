{
 "cells": [
  {
   "cell_type": "markdown",
   "metadata": {},
   "source": [
    "# 数组文件的读写\n",
    "np.save和np.load函数以numpy内建二进制格式存储和读取数字对象，大部分用户会用pandas或其他工具来存取文本、表格文件。"
   ]
  },
  {
   "cell_type": "code",
   "execution_count": 1,
   "metadata": {
    "collapsed": true
   },
   "outputs": [],
   "source": [
    "import numpy as np\n",
    "arr = np.arange(10)\n",
    "np.save('some_array', arr) #数组保存到some_array.npy文件中"
   ]
  },
  {
   "cell_type": "code",
   "execution_count": 2,
   "metadata": {},
   "outputs": [
    {
     "data": {
      "text/plain": [
       "array([0, 1, 2, 3, 4, 5, 6, 7, 8, 9])"
      ]
     },
     "execution_count": 2,
     "metadata": {},
     "output_type": "execute_result"
    }
   ],
   "source": [
    "np.load('some_array.npy') #从文件中读取数组"
   ]
  },
  {
   "cell_type": "code",
   "execution_count": 3,
   "metadata": {
    "collapsed": true
   },
   "outputs": [],
   "source": [
    "np.savez('array_archive.npz', a=arr, b=arr) #使用关键字参数存错多个数组，未压缩格式"
   ]
  },
  {
   "cell_type": "code",
   "execution_count": 4,
   "metadata": {},
   "outputs": [
    {
     "data": {
      "text/plain": [
       "array([0, 1, 2, 3, 4, 5, 6, 7, 8, 9])"
      ]
     },
     "execution_count": 4,
     "metadata": {},
     "output_type": "execute_result"
    }
   ],
   "source": [
    "arch = np.load('array_archive.npz') #从npz文件中读取数组数据对象，该对象以类似字典的形式表示\n",
    "arch['b']    #lazy load数组b"
   ]
  },
  {
   "cell_type": "code",
   "execution_count": 5,
   "metadata": {
    "collapsed": true
   },
   "outputs": [],
   "source": [
    "np.savez_compressed('arrays_compressed.npz', a=arr, b=arr)  #以压缩格式保存数组"
   ]
  },
  {
   "cell_type": "markdown",
   "metadata": {},
   "source": [
    "# 线性代数函数"
   ]
  },
  {
   "cell_type": "code",
   "execution_count": 10,
   "metadata": {},
   "outputs": [
    {
     "data": {
      "text/plain": [
       "array([[ 1.,  2.,  3.],\n",
       "       [ 4.,  5.,  6.]])"
      ]
     },
     "execution_count": 10,
     "metadata": {},
     "output_type": "execute_result"
    }
   ],
   "source": [
    "x = np.array([[1., 2., 3.], [4., 5., 6.]])\n",
    "x"
   ]
  },
  {
   "cell_type": "code",
   "execution_count": 11,
   "metadata": {},
   "outputs": [
    {
     "data": {
      "text/plain": [
       "array([[  6.,  23.],\n",
       "       [ -1.,   7.],\n",
       "       [  8.,   9.]])"
      ]
     },
     "execution_count": 11,
     "metadata": {},
     "output_type": "execute_result"
    }
   ],
   "source": [
    "y = np.array([[6., 23.], [-1, 7], [8, 9]])\n",
    "y"
   ]
  },
  {
   "cell_type": "code",
   "execution_count": 12,
   "metadata": {},
   "outputs": [
    {
     "data": {
      "text/plain": [
       "array([[  28.,   64.],\n",
       "       [  67.,  181.]])"
      ]
     },
     "execution_count": 12,
     "metadata": {},
     "output_type": "execute_result"
    }
   ],
   "source": [
    "x.dot(y) #矩阵点乘"
   ]
  },
  {
   "cell_type": "code",
   "execution_count": 13,
   "metadata": {},
   "outputs": [
    {
     "data": {
      "text/plain": [
       "array([[  28.,   64.],\n",
       "       [  67.,  181.]])"
      ]
     },
     "execution_count": 13,
     "metadata": {},
     "output_type": "execute_result"
    }
   ],
   "source": [
    "np.dot(x, y) #全局函数形式"
   ]
  },
  {
   "cell_type": "code",
   "execution_count": 14,
   "metadata": {},
   "outputs": [
    {
     "data": {
      "text/plain": [
       "array([  6.,  15.])"
      ]
     },
     "execution_count": 14,
     "metadata": {},
     "output_type": "execute_result"
    }
   ],
   "source": [
    "np.dot(x, np.ones(3)) #二维数组点乘一维向量"
   ]
  },
  {
   "cell_type": "code",
   "execution_count": 15,
   "metadata": {},
   "outputs": [
    {
     "data": {
      "text/plain": [
       "array([  6.,  15.])"
      ]
     },
     "execution_count": 15,
     "metadata": {},
     "output_type": "execute_result"
    }
   ],
   "source": [
    "x @ np.ones(3) #python3.5版本以上，点乘可以以@表示"
   ]
  },
  {
   "cell_type": "markdown",
   "metadata": {},
   "source": [
    "## numpy.linalg是numpy线性代数库，包含了常用的线性代数函数"
   ]
  },
  {
   "cell_type": "code",
   "execution_count": 16,
   "metadata": {},
   "outputs": [
    {
     "data": {
      "text/plain": [
       "array([[  1.31386887,  -6.35141544,   1.88626458,  -6.16060108,\n",
       "         -1.61105243],\n",
       "       [ -6.35141544,  45.53241364, -12.64585185,  40.44409478,\n",
       "         11.13390453],\n",
       "       [  1.88626458, -12.64585185,   3.93294826, -11.5040055 ,\n",
       "         -3.15881188],\n",
       "       [ -6.16060108,  40.44409478, -11.5040055 ,  37.05474997,\n",
       "          9.82733633],\n",
       "       [ -1.61105243,  11.13390453,  -3.15881188,   9.82733633,\n",
       "          2.91712818]])"
      ]
     },
     "execution_count": 16,
     "metadata": {},
     "output_type": "execute_result"
    }
   ],
   "source": [
    "from numpy.linalg import inv, qr\n",
    "X = np.random.randn(5, 5)\n",
    "mat = X.T.dot(X) #X的转置点乘X\n",
    "inv(mat) #计算mat矩阵的逆矩阵"
   ]
  },
  {
   "cell_type": "code",
   "execution_count": 17,
   "metadata": {},
   "outputs": [
    {
     "data": {
      "text/plain": [
       "array([[  1.00000000e+00,  -2.03263834e-14,  -4.44066681e-15,\n",
       "          6.33434894e-15,   6.35591881e-16],\n",
       "       [ -2.46609105e-16,   1.00000000e+00,   2.45780426e-15,\n",
       "          2.92475759e-15,  -4.42834742e-16],\n",
       "       [ -1.24211599e-15,  -4.02376796e-15,   1.00000000e+00,\n",
       "          5.88409131e-15,   4.85369671e-16],\n",
       "       [ -1.82510818e-15,   6.24289242e-16,  -3.48747349e-15,\n",
       "          1.00000000e+00,   2.50976255e-15],\n",
       "       [ -1.74634203e-15,  -5.97517012e-15,   2.95250279e-16,\n",
       "          6.38984296e-15,   1.00000000e+00]])"
      ]
     },
     "execution_count": 17,
     "metadata": {},
     "output_type": "execute_result"
    }
   ],
   "source": [
    "mat.dot(inv(mat))"
   ]
  },
  {
   "cell_type": "code",
   "execution_count": 21,
   "metadata": {},
   "outputs": [
    {
     "data": {
      "text/plain": [
       "array([[-8.96390593,  5.04075656, -2.28672019, -5.68262082, -7.65475092],\n",
       "       [ 0.        , -1.73065451,  1.20032719,  1.07003633,  4.51499433],\n",
       "       [ 0.        ,  0.        , -3.05481272, -0.64206845, -1.15803315],\n",
       "       [ 0.        ,  0.        ,  0.        , -0.71357743,  2.62657632],\n",
       "       [ 0.        ,  0.        ,  0.        ,  0.        ,  0.06433249]])"
      ]
     },
     "execution_count": 21,
     "metadata": {},
     "output_type": "execute_result"
    }
   ],
   "source": [
    "q, r = qr(mat) #矩阵的QR分解\n",
    "r"
   ]
  },
  {
   "cell_type": "markdown",
   "metadata": {},
   "source": [
    ">如果实（复）非奇异矩阵A能够化成正交（酉）矩阵Q与实（复）非奇异上三角矩阵R的乘积，即A=QR，则称其为A的QR分解。\n",
    "QR（正交三角）分解法是目前求一般矩阵全部特征值的最有效并广泛应用的方法，一般矩阵先经过正交相似变化成为Hessenberg矩阵，然后再应用QR方法求特征值和特征向量。它是将矩阵分解成一个正规正交矩阵Q与上三角形矩阵R，所以称为QR分解法，与此正规正交矩阵的通用符号Q有关。"
   ]
  },
  {
   "cell_type": "markdown",
   "metadata": {},
   "source": [
    "## 常用线性代数函数\n",
    "|函数 |描述|\n",
    "|---|---|\n",
    "|diag | 返回一个矩阵的对角线元素组成的数组，或者根据一个一维数组产生一个以该数组为对角线的矩阵|\n",
    "|dot|矩阵点乘|\n",
    "|trace|计算对角线元素的和（矩阵的迹）|\n",
    "|det| 计算矩阵行列式|\n",
    "|eig| 计算特征值和特征向量|\n",
    "|inv| 计算矩阵的逆矩阵|\n",
    "|pinv |计算 Moore-Penrose逆矩阵|\n",
    "|qr| 计算QR分解|\n",
    "|svd | 计算SVD分解|\n",
    "|solve| 求方程 Ax = b 中的向量X，A是矩阵|\n",
    "|lstsq | 计算 Ax = b的最小二乘答案|"
   ]
  },
  {
   "cell_type": "code",
   "execution_count": null,
   "metadata": {
    "collapsed": true
   },
   "outputs": [],
   "source": []
  }
 ],
 "metadata": {
  "kernelspec": {
   "display_name": "Python 3",
   "language": "python",
   "name": "python3"
  },
  "language_info": {
   "codemirror_mode": {
    "name": "ipython",
    "version": 3
   },
   "file_extension": ".py",
   "mimetype": "text/x-python",
   "name": "python",
   "nbconvert_exporter": "python",
   "pygments_lexer": "ipython3",
   "version": "3.6.3"
  }
 },
 "nbformat": 4,
 "nbformat_minor": 2
}
